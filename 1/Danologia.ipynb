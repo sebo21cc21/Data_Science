{
  "nbformat": 4,
  "nbformat_minor": 0,
  "metadata": {
    "colab": {
      "provenance": []
    },
    "kernelspec": {
      "name": "python3",
      "display_name": "Python 3"
    },
    "language_info": {
      "name": "python"
    }
  },
  "cells": [
    {
      "cell_type": "code",
      "execution_count": null,
      "metadata": {
        "colab": {
          "base_uri": "https://localhost:8080/"
        },
        "id": "4vlW3DKjvX8g",
        "outputId": "482e0387-43cd-4022-ee1d-65b88bb0d95a"
      },
      "outputs": [
        {
          "output_type": "stream",
          "name": "stdout",
          "text": [
            "0 SE\n",
            "1 BA\n",
            "2 STIAN\n"
          ]
        }
      ],
      "source": [
        "lista = [\"Se\", \"ba\", \"stian\"]\n",
        "for i in range(3):\n",
        "  print(i,lista[i].upper(), sep=' ')"
      ]
    },
    {
      "cell_type": "code",
      "source": [
        "for (i,elem) in enumerate(lista):\n",
        "  print(f'nr {i} -> {elem}')"
      ],
      "metadata": {
        "colab": {
          "base_uri": "https://localhost:8080/"
        },
        "id": "DWHL-EwcwJJj",
        "outputId": "63fd10aa-6e5d-4884-bf17-eeb89fce722b"
      },
      "execution_count": null,
      "outputs": [
        {
          "output_type": "stream",
          "name": "stdout",
          "text": [
            "nr 0 -> Se\n",
            "nr 1 -> ba\n",
            "nr 2 -> stian\n"
          ]
        }
      ]
    },
    {
      "cell_type": "markdown",
      "source": [
        "Słownik"
      ],
      "metadata": {
        "id": "qmJM7qEXwo9X"
      }
    },
    {
      "cell_type": "code",
      "source": [
        "slo = {}\n",
        "slo[lista[0]] = 0\n",
        "print(slo)"
      ],
      "metadata": {
        "colab": {
          "base_uri": "https://localhost:8080/"
        },
        "id": "iVyBK5Ndwc_v",
        "outputId": "3b3becf6-11d2-4499-fde0-2f28a9fb3500"
      },
      "execution_count": null,
      "outputs": [
        {
          "output_type": "stream",
          "name": "stdout",
          "text": [
            "{'Se': 0}\n"
          ]
        }
      ]
    },
    {
      "cell_type": "markdown",
      "source": [
        "**Lista składana List Comprehension**"
      ],
      "metadata": {
        "id": "phpp7YJBxWbL"
      }
    },
    {
      "cell_type": "code",
      "source": [
        "lista = ['Żytomir', 'Jadwiga', 'Kokosz']\n",
        "\n",
        "lista_skladana = [elem.upper() for elem in lista]\n",
        "print(lista_skladana)"
      ],
      "metadata": {
        "colab": {
          "base_uri": "https://localhost:8080/"
        },
        "id": "lJLQs3f7xCvL",
        "outputId": "467e633d-822f-438a-dd9e-22a2fe366b9a"
      },
      "execution_count": null,
      "outputs": [
        {
          "output_type": "stream",
          "name": "stdout",
          "text": [
            "['ŻYTOMIR', 'JADWIGA', 'KOKOSZ']\n"
          ]
        }
      ]
    },
    {
      "cell_type": "markdown",
      "source": [
        "**Długość elementów listy**"
      ],
      "metadata": {
        "id": "uk7yfgiVxvvB"
      }
    },
    {
      "cell_type": "code",
      "source": [
        "lista_skladana = [len(elem) for elem in lista]\n",
        "print(lista_skladana)"
      ],
      "metadata": {
        "colab": {
          "base_uri": "https://localhost:8080/"
        },
        "id": "Yp5fEUHqxms2",
        "outputId": "5c05c06b-f918-4066-feb3-cc0ffd4fbeee"
      },
      "execution_count": null,
      "outputs": [
        {
          "output_type": "stream",
          "name": "stdout",
          "text": [
            "[7, 7, 6]\n"
          ]
        }
      ]
    },
    {
      "cell_type": "markdown",
      "source": [
        "Filtrowanie od jakiegoś ciągu znaku"
      ],
      "metadata": {
        "id": "333zgOVcx35c"
      }
    },
    {
      "cell_type": "code",
      "source": [
        "lista_skladana = [len(elem) for elem in lista if not elem.startswith('Koko')]\n",
        "print(lista_skladana)"
      ],
      "metadata": {
        "colab": {
          "base_uri": "https://localhost:8080/"
        },
        "id": "ZjlGx0nox9PW",
        "outputId": "685c4edb-5e71-4fa0-b43a-f96ebbe1c29d"
      },
      "execution_count": null,
      "outputs": [
        {
          "output_type": "stream",
          "name": "stdout",
          "text": [
            "[7, 7]\n"
          ]
        }
      ]
    },
    {
      "cell_type": "markdown",
      "source": [
        "**Liczby parzyste przefiltrowane** Standard Python Pep8"
      ],
      "metadata": {
        "id": "kS8G1lXCyqLR"
      }
    },
    {
      "cell_type": "code",
      "source": [
        "[x**2 for x in range(10) if x%2 == 0]"
      ],
      "metadata": {
        "colab": {
          "base_uri": "https://localhost:8080/"
        },
        "id": "exsr7FDSySXR",
        "outputId": "fa575236-9592-4b55-9bb6-72be7bde7854"
      },
      "execution_count": null,
      "outputs": [
        {
          "output_type": "execute_result",
          "data": {
            "text/plain": [
              "[0, 4, 16, 36, 64]"
            ]
          },
          "metadata": {},
          "execution_count": 21
        }
      ]
    },
    {
      "cell_type": "markdown",
      "source": [
        "Funkcja zip 1 element z 1 elementem, 2 element z 2 elementem, 3 element z 3 elementem"
      ],
      "metadata": {
        "id": "k-A08QX1zYcP"
      }
    },
    {
      "cell_type": "code",
      "source": [
        "list(zip(['a','b','c'], [1,2,3]))"
      ],
      "metadata": {
        "colab": {
          "base_uri": "https://localhost:8080/"
        },
        "id": "S6N19yhGzZxd",
        "outputId": "c066cd6a-3730-428f-8120-d237e97b3d29"
      },
      "execution_count": null,
      "outputs": [
        {
          "output_type": "execute_result",
          "data": {
            "text/plain": [
              "[('a', 1), ('b', 2), ('c', 3)]"
            ]
          },
          "metadata": {},
          "execution_count": 23
        }
      ]
    },
    {
      "cell_type": "markdown",
      "source": [
        "# **Słownik**"
      ],
      "metadata": {
        "id": "zy6GRdkDzzcs"
      }
    },
    {
      "cell_type": "code",
      "source": [
        "dict(zip(['a','b','c'], [1,2,3]))"
      ],
      "metadata": {
        "colab": {
          "base_uri": "https://localhost:8080/"
        },
        "id": "wDXwm3yUzzIY",
        "outputId": "483ccfa2-3522-4d12-bd04-4d09bd678d49"
      },
      "execution_count": null,
      "outputs": [
        {
          "output_type": "execute_result",
          "data": {
            "text/plain": [
              "{'a': 1, 'b': 2, 'c': 3}"
            ]
          },
          "metadata": {},
          "execution_count": 24
        }
      ]
    },
    {
      "cell_type": "markdown",
      "source": [
        "Dane listy na podstawie słownika z ponumerowanymi wartościami"
      ],
      "metadata": {
        "id": "fRP4i_6g0czS"
      }
    },
    {
      "cell_type": "code",
      "source": [
        "slo = {klucz: wartosc for klucz, wartosc in enumerate(lista)}\n",
        "print(slo)\n"
      ],
      "metadata": {
        "colab": {
          "base_uri": "https://localhost:8080/"
        },
        "id": "WVTsTDrw0ByX",
        "outputId": "96556126-a265-486b-c577-a4e4636aa1e9"
      },
      "execution_count": null,
      "outputs": [
        {
          "output_type": "stream",
          "name": "stdout",
          "text": [
            "{0: 'Żytomir', 1: 'Jadwiga', 2: 'Kokosz'}\n"
          ]
        }
      ]
    },
    {
      "cell_type": "markdown",
      "source": [
        "slo.keys(), slo.items(), slo.values() for k,w in slo.items():"
      ],
      "metadata": {
        "id": "ZVCC24LM06hj"
      }
    },
    {
      "cell_type": "code",
      "source": [
        "slo.values()\n",
        "slo.keys()\n",
        "slo.items()"
      ],
      "metadata": {
        "colab": {
          "base_uri": "https://localhost:8080/"
        },
        "id": "2lJZXydj1FB0",
        "outputId": "beb66872-0732-4176-fcd3-81df51598e49"
      },
      "execution_count": null,
      "outputs": [
        {
          "output_type": "execute_result",
          "data": {
            "text/plain": [
              "dict_items([(0, 'Żytomir'), (1, 'Jadwiga'), (2, 'Kokosz')])"
            ]
          },
          "metadata": {},
          "execution_count": 36
        }
      ]
    },
    {
      "cell_type": "markdown",
      "source": [
        "# FUNKCJE"
      ],
      "metadata": {
        "id": "kQq3aK0B1onj"
      }
    },
    {
      "cell_type": "code",
      "source": [
        "def gen_liste(liczba = 0, znak = 'a', ascii = 'False'):\n",
        "  L = []\n",
        "  L.append(liczba)\n",
        "  if ascii:\n",
        "    L.append(ord(znak))\n",
        "  else:\n",
        "    L.append('else')\n",
        "  return L + L + L\n",
        "\n",
        "gen_liste(ascii = 'True', znak = 'a')\n"
      ],
      "metadata": {
        "colab": {
          "base_uri": "https://localhost:8080/"
        },
        "id": "KDsV-PYO1oYG",
        "outputId": "747c903d-acf1-4777-ab56-e8aa4aa9cb79"
      },
      "execution_count": null,
      "outputs": [
        {
          "output_type": "execute_result",
          "data": {
            "text/plain": [
              "[0, 97, 0, 97, 0, 97]"
            ]
          },
          "metadata": {},
          "execution_count": 39
        }
      ]
    },
    {
      "cell_type": "markdown",
      "source": [
        "Sprawdzian\n",
        "def list2slo(lista):\n",
        "  return{x: elem for x in lista}"
      ],
      "metadata": {
        "id": "PkiUTEH53Giv"
      }
    },
    {
      "cell_type": "code",
      "source": [
        "slo = {\n",
        "    'Mariola': ['Womit', 'Kokosz'],\n",
        "    'Womit': [],\n",
        "    'Kokosz': ['Womit']\n",
        "}\n",
        "\n",
        "def slo2list(slo):\n",
        "    relations = []\n",
        "    for klucz, wartosci in slo.items():\n",
        "        for wartosc in wartosci:\n",
        "            relations.append((klucz, wartosc))\n",
        "    return relations\n",
        "\n",
        "relacje = slo2list(slo)\n",
        "print(relacje)\n"
      ],
      "metadata": {
        "colab": {
          "base_uri": "https://localhost:8080/"
        },
        "id": "GpSR9kCk3HYD",
        "outputId": "a8a762a1-51bb-493d-dd9b-cec87b355189"
      },
      "execution_count": null,
      "outputs": [
        {
          "output_type": "stream",
          "name": "stdout",
          "text": [
            "[('Mariola', 'Womit'), ('Mariola', 'Kokosz'), ('Kokosz', 'Womit')]\n"
          ]
        }
      ]
    },
    {
      "cell_type": "code",
      "source": [
        "lista = ['Janek', 'Mariola']\n",
        "lista[3:8]\n",
        "lista[0:8]\n",
        "lista[:]\n",
        "\n",
        "f = lambda slowo: slowo == slowo[::-1]\n",
        "print(f)\n",
        "\n",
        "x = {4,5}\n",
        "lista2 = lista[3:5]\n",
        "lista2 = lista\n",
        "lista2[0] = 'cos'\n",
        "print(lista)"
      ],
      "metadata": {
        "colab": {
          "base_uri": "https://localhost:8080/"
        },
        "id": "iETWRK_o96j1",
        "outputId": "bd9cac8c-2813-46e6-d59a-7659b6ced143"
      },
      "execution_count": null,
      "outputs": [
        {
          "output_type": "stream",
          "name": "stdout",
          "text": [
            "<function <lambda> at 0x7c602889d360>\n",
            "['cos', 'Mariola']\n"
          ]
        }
      ]
    },
    {
      "cell_type": "markdown",
      "source": [
        "Umiemy robić wykresy i korzystać z typu tabelarycznego"
      ],
      "metadata": {
        "id": "EbKUCgTUBcaL"
      }
    }
  ]
}